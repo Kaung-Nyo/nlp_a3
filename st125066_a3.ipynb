{
 "cells": [
  {
   "cell_type": "markdown",
   "metadata": {},
   "source": [
    "# Machine Translation + Transformer\n",
    "\n",
    "<img src = \"./figures/transformer1.png\" >"
   ]
  },
  {
   "cell_type": "code",
   "execution_count": 136,
   "metadata": {},
   "outputs": [
    {
     "name": "stdout",
     "output_type": "stream",
     "text": [
      "cpu\n"
     ]
    }
   ],
   "source": [
    "import torch, torchdata, torchtext,datasets, math\n",
    "import torch.nn as nn\n",
    "import torch.nn.functional as F\n",
    "import numpy as np\n",
    "\n",
    "import random, math, time\n",
    "\n",
    "device = torch.device('cuda' if torch.cuda.is_available() else 'cpu')\n",
    "print(device)\n",
    "\n",
    "#make our work comparable if restarted the kernel\n",
    "SEED = 1234\n",
    "torch.manual_seed(SEED)\n",
    "torch.backends.cudnn.deterministic = True\n",
    "\n",
    "import warnings\n",
    "warnings.filterwarnings(\"ignore\", category=UserWarning)\n",
    "\n",
    "from nltk.translate.bleu_score import sentence_bleu"
   ]
  },
  {
   "cell_type": "code",
   "execution_count": 2,
   "metadata": {},
   "outputs": [
    {
     "data": {
      "text/plain": [
       "'3.8.4'"
      ]
     },
     "execution_count": 2,
     "metadata": {},
     "output_type": "execute_result"
    }
   ],
   "source": [
    "import spacy\n",
    "spacy.__version__"
   ]
  },
  {
   "cell_type": "code",
   "execution_count": 3,
   "metadata": {},
   "outputs": [],
   "source": [
    "# torch.cuda.get_device_name(0)"
   ]
  },
  {
   "cell_type": "code",
   "execution_count": 4,
   "metadata": {},
   "outputs": [
    {
     "data": {
      "text/plain": [
       "'2.2.2+cu121'"
      ]
     },
     "execution_count": 4,
     "metadata": {},
     "output_type": "execute_result"
    }
   ],
   "source": [
    "torch.__version__"
   ]
  },
  {
   "cell_type": "code",
   "execution_count": 5,
   "metadata": {},
   "outputs": [
    {
     "data": {
      "text/plain": [
       "'0.17.2+cpu'"
      ]
     },
     "execution_count": 5,
     "metadata": {},
     "output_type": "execute_result"
    }
   ],
   "source": [
    "torchtext.__version__"
   ]
  },
  {
   "cell_type": "markdown",
   "metadata": {
    "tags": []
   },
   "source": [
    "## 1. ETL: Loading the dataset\n",
    "\n",
    "**Note**: The dataset is from TUFS Asian Language Parallel Corpus (TALPCo)\n",
    "\n",
    "The TUFS Asian Language Parallel Corpus (TALPCo) is an open parallel corpus consisting of Japanese sentences and their translations into Korean, Burmese (Myanmar; the official language of the Republic of the Union of Myanmar), Malay (the national language of Malaysia, Singapore and Brunei), Indonesian, Thai, Vietnamese and English. TALPCo is licensed under a Creative Commons Attribution 4.0 International (CC BY 4.0) license. See the paper below for the details of TALPCo.\n"
   ]
  },
  {
   "cell_type": "markdown",
   "metadata": {},
   "source": [
    "### Prepare data to upload to hugging face"
   ]
  },
  {
   "cell_type": "code",
   "execution_count": 92,
   "metadata": {},
   "outputs": [
    {
     "name": "stdout",
     "output_type": "stream",
     "text": [
      "('1176\\tMr Tanaka is not a student.\\n', '1176\\tမစ္စတာတာနာခါဟာ ကျောင်းသား မဟုတ်ပါဘူး။\\n')\n"
     ]
    }
   ],
   "source": [
    "from sklearn.model_selection import train_test_split\n",
    "import re\n",
    "import pandas as pd\n",
    "with open('./app/data/data_eng.txt') as file:\n",
    "    textEng = file.readlines()\n",
    "with open('./app/data/data_myn.txt') as file:\n",
    "    textMyn = file.readlines()\n",
    "paired_lines = list(zip(textEng, textMyn))\n",
    "print(paired_lines[0])\n",
    "\n",
    "def preprocess(text):\n",
    "    # Remove special characters with regular expression\n",
    "    processed_text = re.sub('[^A-Za-z0-9က-၏ဠ-ဿ၀-၉၊။ ]+', '', text)\n",
    "    processed_text = re.sub('\\d+', '', processed_text)\n",
    "    return processed_text.strip()\n",
    "\n",
    "processed_corpus = {(preprocess(myanmar), preprocess(english)) for myanmar, english in paired_lines}\n",
    "list(processed_corpus)[0]\n",
    "\n",
    "# Build dataframe for train,val,test split\n",
    "df = pd.DataFrame(processed_corpus, columns=['en', 'my'])\n",
    "\n",
    "# Split twice for 80% train, 10% validation, 10% test\n",
    "train_df, test_df = train_test_split(df, test_size=0.2, random_state=SEED)\n",
    "test_df, val_df = train_test_split(test_df, test_size=0.5, random_state=SEED)\n",
    "\n",
    "# Save files for upload\n",
    "train_df.to_csv('./app/data/train.csv', index=False)\n",
    "test_df.to_csv('./app/data/test.csv', index=False)\n",
    "val_df.to_csv('./app/data/validation.csv', index=False)"
   ]
  },
  {
   "cell_type": "code",
   "execution_count": 7,
   "metadata": {},
   "outputs": [],
   "source": [
    "dataset = datasets.load_dataset('kaung-nyo-lwin/english-myanmar')"
   ]
  },
  {
   "cell_type": "markdown",
   "metadata": {
    "tags": []
   },
   "source": [
    "## 2. EDA - simple investigation"
   ]
  },
  {
   "cell_type": "code",
   "execution_count": 8,
   "metadata": {},
   "outputs": [
    {
     "data": {
      "text/plain": [
       "DatasetDict({\n",
       "    train: Dataset({\n",
       "        features: ['en', 'my'],\n",
       "        num_rows: 1093\n",
       "    })\n",
       "    validation: Dataset({\n",
       "        features: ['en', 'my'],\n",
       "        num_rows: 137\n",
       "    })\n",
       "    test: Dataset({\n",
       "        features: ['en', 'my'],\n",
       "        num_rows: 137\n",
       "    })\n",
       "})"
      ]
     },
     "execution_count": 8,
     "metadata": {},
     "output_type": "execute_result"
    }
   ],
   "source": [
    "dataset"
   ]
  },
  {
   "cell_type": "code",
   "execution_count": 9,
   "metadata": {},
   "outputs": [],
   "source": [
    "SRC_LANGUAGE = 'en'\n",
    "TRG_LANGUAGE = 'my'"
   ]
  },
  {
   "cell_type": "code",
   "execution_count": 10,
   "metadata": {},
   "outputs": [
    {
     "data": {
      "text/plain": [
       "'The sea over there is very pretty'"
      ]
     },
     "execution_count": 10,
     "metadata": {},
     "output_type": "execute_result"
    }
   ],
   "source": [
    "#so this is a datapipe object; very similar to pytorch dataset version 2 which is better\n",
    "dataset['train'][0][SRC_LANGUAGE]"
   ]
  },
  {
   "cell_type": "code",
   "execution_count": 11,
   "metadata": {},
   "outputs": [
    {
     "data": {
      "text/plain": [
       "'အဲဒီကပင်လယ်က အရမ်း လှတယ်။'"
      ]
     },
     "execution_count": 11,
     "metadata": {},
     "output_type": "execute_result"
    }
   ],
   "source": [
    "dataset['train'][0][TRG_LANGUAGE]"
   ]
  },
  {
   "cell_type": "code",
   "execution_count": 100,
   "metadata": {},
   "outputs": [],
   "source": [
    "sample = (dataset['train'][0][SRC_LANGUAGE],dataset['train'][0][TRG_LANGUAGE])"
   ]
  },
  {
   "cell_type": "markdown",
   "metadata": {
    "tags": []
   },
   "source": [
    "## 3. Preprocessing \n",
    "\n",
    "### Tokenizing\n",
    "\n",
    "**Note**: the models must first be downloaded using the following on the command line: \n",
    "```\n",
    "python3 -m spacy download en_core_web_sm\n",
    "```\n",
    "\n",
    "First, since we have two languages, let's create some constants to represent that.  Also, let's create two dicts: one for holding our tokenizers and one for holding all the vocabs with assigned numbers for each unique word"
   ]
  },
  {
   "cell_type": "markdown",
   "metadata": {},
   "source": [
    "For tokenizing myanmar language, 𝗆𝔂𝕎◐ℝ𝗗 Segmentation Tool from https://github.com/ye-kyaw-thu/myWord is used"
   ]
  },
  {
   "cell_type": "code",
   "execution_count": 93,
   "metadata": {},
   "outputs": [],
   "source": [
    "import math\n",
    "import functools\n",
    "import sys\n",
    "import pickle\n",
    "\n",
    "sys.setrecursionlimit(10**6)\n",
    "\n",
    "# My|anmar syllable combination dictionaries (pretrained)\n",
    "uni_dict_bin = './app/data/unigram-word.bin'\n",
    "bi_dict_bin = './app/data/bigram-word.bin'                \n",
    "\n",
    "# Read binary files\n",
    "def read_dict (fileDICT):\n",
    "    try:\n",
    "        with open(fileDICT, 'rb') as input_file:\n",
    "            dictionary = pickle.load(input_file)\n",
    "            input_file.close()\n",
    "    except FileNotFoundError:\n",
    "        print('Dictionary file', fileDICT, ' not found!')\n",
    "    return dictionary\n",
    "\n",
    "class ProbDist(dict):\n",
    "    ### Probability distribution estimated from unigram/bigram data\n",
    "    def __init__(self, datafile=None, unigram=True, N=102490):\n",
    "        data = read_dict(datafile)\n",
    "        for k, c in data.items():\n",
    "            self[k] = self.get(k, 0) + c\n",
    "\n",
    "        if unigram:\n",
    "            self.unknownprob = lambda k, N: 10/(N*10**len(k))    # avoid unknown long word\n",
    "        else:\n",
    "            self.unknownprob = lambda k, N: 1/N\n",
    "\n",
    "        self.N = N\n",
    "\n",
    "    def __call__(self, key):\n",
    "        if key in self:\n",
    "            return self[key]/self.N\n",
    "        else:\n",
    "            return self.unknownprob(key, self.N)\n",
    "        \n",
    "P_unigram = ProbDist(uni_dict_bin, True)\n",
    "P_bigram = ProbDist(bi_dict_bin, False)\n",
    "\n",
    "def conditionalProb(word_curr, word_prev):\n",
    "    ### Conditional probability of current word given the previous word.\n",
    "    try:\n",
    "        return P_bigram[word_prev + ' ' + word_curr]/P_unigram[word_prev]\n",
    "    except KeyError:\n",
    "        return P_unigram(word_curr)\n",
    "\n",
    "@functools.lru_cache(maxsize=2**10)\n",
    "#maxlen=20\n",
    "def viterbi(text, prev='<S>', maxlen=20):\n",
    "    if not text:\n",
    "        return 0.0, []\n",
    "    \n",
    "    textlen = min(len(text), maxlen)\n",
    "    splits = [(text[:i + 1], text[i + 1:]) for i in range(textlen)]\n",
    "\n",
    "    candidates = []\n",
    "\n",
    "    for first_word, remain_word in splits:\n",
    "\n",
    "        first_prob = math.log10(conditionalProb(first_word, prev))\n",
    "\n",
    "        remain_prob, remain_word = viterbi(remain_word, first_word)\n",
    "\n",
    "        candidates.append((first_prob + remain_prob, [first_word] + remain_word))\n",
    "\n",
    "    return max(candidates)"
   ]
  },
  {
   "cell_type": "code",
   "execution_count": 94,
   "metadata": {},
   "outputs": [],
   "source": [
    "def my_tokenizer(text): # Myanmar tokenizer\n",
    "    if text is None: # Handle null value as empty string\n",
    "        return []\n",
    "    wordDelimiter= '|' # assign local variable delimiter\n",
    "\n",
    "    input = text[:]\n",
    "    listString = viterbi(input.replace(\" \", \"\").strip()) # remove space between words and pass to viterbi()\n",
    "    wordStr = wordDelimiter.join(listString[1])\n",
    "    wordClean1=wordStr.strip()\n",
    "    wordClean2=wordClean1.strip(wordDelimiter)    \n",
    "    wordClean2 = wordClean2.split('|')                \n",
    "    return wordClean2"
   ]
  },
  {
   "cell_type": "code",
   "execution_count": 95,
   "metadata": {},
   "outputs": [],
   "source": [
    "# Place-holders\n",
    "token_transform = {}\n",
    "vocab_transform = {}"
   ]
  },
  {
   "cell_type": "code",
   "execution_count": 96,
   "metadata": {},
   "outputs": [],
   "source": [
    "from torchtext.data.utils import get_tokenizer\n",
    "token_transform[SRC_LANGUAGE] = get_tokenizer('spacy', language='en_core_web_sm')\n",
    "token_transform[TRG_LANGUAGE] = my_tokenizer"
   ]
  },
  {
   "cell_type": "code",
   "execution_count": 17,
   "metadata": {},
   "outputs": [
    {
     "name": "stdout",
     "output_type": "stream",
     "text": [
      "Sentence:  The sea over there is very pretty\n",
      "Tokenization:  ['The', 'sea', 'over', 'there', 'is', 'very', 'pretty']\n"
     ]
    }
   ],
   "source": [
    "#example of tokenization of the english part\n",
    "print(\"Sentence: \", sample[0])\n",
    "print(\"Tokenization: \", token_transform[SRC_LANGUAGE](sample[0]))"
   ]
  },
  {
   "cell_type": "code",
   "execution_count": 18,
   "metadata": {},
   "outputs": [
    {
     "name": "stdout",
     "output_type": "stream",
     "text": [
      "Sentence:  အဲဒီကပင်လယ်က အရမ်း လှတယ်။\n",
      "Tokenization:  ['အဲဒီ', 'က', 'ပင်လယ်', 'က', 'အရမ်း', 'လှ', 'တယ်', '။']\n"
     ]
    }
   ],
   "source": [
    "#example of tokenization of the english part\n",
    "print(\"Sentence: \", sample[1])\n",
    "print(\"Tokenization: \", token_transform[TRG_LANGUAGE](sample[1]))"
   ]
  },
  {
   "cell_type": "markdown",
   "metadata": {},
   "source": [
    "A function to tokenize our input."
   ]
  },
  {
   "cell_type": "code",
   "execution_count": 97,
   "metadata": {},
   "outputs": [],
   "source": [
    "# helper function to yield list of tokens\n",
    "# here data can be `train` or `val` or `test`\n",
    "def yield_tokens(data, language):\n",
    "    language_index = {SRC_LANGUAGE: 0, TRG_LANGUAGE: 1}\n",
    "\n",
    "    for data_sample in data:\n",
    "        yield token_transform[language](data_sample[language]) #either first or second index"
   ]
  },
  {
   "cell_type": "markdown",
   "metadata": {},
   "source": [
    "Before we tokenize, let's define some special symbols so our neural network understand the embeddings of these symbols, namely the unknown, the padding, the start of sentence, and end of sentence."
   ]
  },
  {
   "cell_type": "code",
   "execution_count": 98,
   "metadata": {},
   "outputs": [],
   "source": [
    "# Define special symbols and indices\n",
    "UNK_IDX, PAD_IDX, SOS_IDX, EOS_IDX = 0, 1, 2, 3\n",
    "# Make sure the tokens are in order of their indices to properly insert them in vocab\n",
    "special_symbols = ['<unk>', '<pad>', '<sos>', '<eos>']"
   ]
  },
  {
   "cell_type": "markdown",
   "metadata": {
    "tags": []
   },
   "source": [
    "### Text to integers (Numericalization)\n",
    "\n",
    "Next we gonna create function (torchtext called vocabs) that turn these tokens into integers.  Here we use built in factory function <code>build_vocab_from_iterator</code> which accepts iterator that yield list or iterator of tokens."
   ]
  },
  {
   "cell_type": "code",
   "execution_count": 99,
   "metadata": {},
   "outputs": [],
   "source": [
    "from torchtext.vocab import build_vocab_from_iterator\n",
    "\n",
    "for ln in [SRC_LANGUAGE, TRG_LANGUAGE]:\n",
    "    # Create torchtext's Vocab object \n",
    "    vocab_transform[ln] = build_vocab_from_iterator(yield_tokens(dataset['train'], ln), \n",
    "                                                    min_freq=2,   #if not, everything will be treated as UNK\n",
    "                                                    specials=special_symbols,\n",
    "                                                    special_first=True) #indicates whether to insert symbols at the beginning or at the end                                            \n",
    "# Set UNK_IDX as the default index. This index is returned when the token is not found. \n",
    "# If not set, it throws RuntimeError when the queried token is not found in the Vocabulary. \n",
    "for ln in [SRC_LANGUAGE, TRG_LANGUAGE]:\n",
    "    vocab_transform[ln].set_default_index(UNK_IDX)"
   ]
  },
  {
   "cell_type": "code",
   "execution_count": 22,
   "metadata": {},
   "outputs": [
    {
     "data": {
      "text/plain": [
       "[101, 6, 7, 0, 7]"
      ]
     },
     "execution_count": 22,
     "metadata": {},
     "output_type": "execute_result"
    }
   ],
   "source": [
    "#see some example\n",
    "vocab_transform[SRC_LANGUAGE](['here', 'is', 'a', 'unknownword', 'a'])"
   ]
  },
  {
   "cell_type": "code",
   "execution_count": 23,
   "metadata": {},
   "outputs": [
    {
     "data": {
      "text/plain": [
       "'It'"
      ]
     },
     "execution_count": 23,
     "metadata": {},
     "output_type": "execute_result"
    }
   ],
   "source": [
    "#we can reverse it....\n",
    "mapping = vocab_transform[SRC_LANGUAGE].get_itos()\n",
    "\n",
    "#print 30, for example\n",
    "mapping[30]"
   ]
  },
  {
   "cell_type": "code",
   "execution_count": 24,
   "metadata": {},
   "outputs": [
    {
     "data": {
      "text/plain": [
       "'<unk>'"
      ]
     },
     "execution_count": 24,
     "metadata": {},
     "output_type": "execute_result"
    }
   ],
   "source": [
    "#let's try unknown vocab\n",
    "mapping[0]\n",
    "#they will all map to <unk> which has 0 as integer"
   ]
  },
  {
   "cell_type": "code",
   "execution_count": 25,
   "metadata": {},
   "outputs": [
    {
     "data": {
      "text/plain": [
       "('<pad>', '<sos>', '<eos>')"
      ]
     },
     "execution_count": 25,
     "metadata": {},
     "output_type": "execute_result"
    }
   ],
   "source": [
    "#let's try special symbols\n",
    "mapping[1], mapping[2], mapping[3]"
   ]
  },
  {
   "cell_type": "code",
   "execution_count": 26,
   "metadata": {},
   "outputs": [
    {
     "data": {
      "text/plain": [
       "774"
      ]
     },
     "execution_count": 26,
     "metadata": {},
     "output_type": "execute_result"
    }
   ],
   "source": [
    "#check unique vocabularies\n",
    "len(mapping)"
   ]
  },
  {
   "cell_type": "markdown",
   "metadata": {
    "tags": []
   },
   "source": [
    "## 4. Preparing the dataloader\n",
    "\n",
    "One thing we change here is the <code>collate_fn</code> which now also returns the length of sentence.  This is required for <code>packed_padded_sequence</code>"
   ]
  },
  {
   "cell_type": "code",
   "execution_count": 101,
   "metadata": {},
   "outputs": [],
   "source": [
    "from torch.nn.utils.rnn import pad_sequence\n",
    "from torch.utils.data import DataLoader\n",
    "\n",
    "BATCH_SIZE = 64\n",
    "\n",
    "# helper function to club together sequential operations\n",
    "def sequential_transforms(*transforms):\n",
    "    def func(txt_input):\n",
    "        for transform in transforms:\n",
    "            txt_input = transform(txt_input)\n",
    "        return txt_input\n",
    "    return func\n",
    "\n",
    "# function to add BOS/EOS and create tensor for input sequence indices\n",
    "def tensor_transform(token_ids):\n",
    "    return torch.cat((torch.tensor([SOS_IDX]), \n",
    "                      torch.tensor(token_ids), \n",
    "                      torch.tensor([EOS_IDX])))\n",
    "\n",
    "# src and trg language text transforms to convert raw strings into tensors indices\n",
    "text_transform = {}\n",
    "for ln in [SRC_LANGUAGE, TRG_LANGUAGE]:\n",
    "    text_transform[ln] = sequential_transforms(token_transform[ln], #Tokenization\n",
    "                                               vocab_transform[ln], #Numericalization\n",
    "                                               tensor_transform) # Add BOS/EOS and create tensor\n",
    "\n",
    "\n",
    "# function to collate data samples into batch tesors\n",
    "def collate_batch(batch):\n",
    "    src_batch, src_len_batch, trg_batch = [], [], []\n",
    "\n",
    "    for lang_data in batch:\n",
    "        # Assuming that each language is a key in the dictionary\n",
    "        for lang, tokens in lang_data.items():\n",
    "            # Use an empty tensor as a default value if tokens is None or an empty list\n",
    "            processed_text = text_transform[lang](tokens) if tokens else torch.empty(0, dtype=torch.int64)\n",
    "            \n",
    "            # For source language, append to src_batch and record length\n",
    "            if lang == SRC_LANGUAGE:\n",
    "                src_batch.append(processed_text)\n",
    "                src_len_batch.append(processed_text.size(0))\n",
    "            \n",
    "            # For target language, append to trg_batch\n",
    "            elif lang == TRG_LANGUAGE:\n",
    "                trg_batch.append(processed_text)\n",
    "    src_batch = pad_sequence(src_batch, padding_value=PAD_IDX, batch_first = True) #<----need this because we use linear layers mostly\n",
    "    trg_batch = pad_sequence(trg_batch, padding_value=PAD_IDX, batch_first = True)\n",
    "    return src_batch, torch.tensor(src_len_batch, dtype=torch.int64), trg_batch"
   ]
  },
  {
   "cell_type": "code",
   "execution_count": 102,
   "metadata": {},
   "outputs": [
    {
     "data": {
      "text/plain": [
       "{'en': ['The sea over there is very pretty',\n",
       "  'Lets sit over there and eat a boxed lunch',\n",
       "  'The airplane is flying south',\n",
       "  'Whats the date today',\n",
       "  'The dictionary is on that bookshelf'],\n",
       " 'my': ['အဲဒီကပင်လယ်က အရမ်း လှတယ်။',\n",
       "  'ထမင်းဘူးတွေ ဟိုနားမှာ ထိုင်စားရအောင်။',\n",
       "  'လေယာဉ်ပျံက တောင်ဘက်ကို ပျံသွားတယ်။',\n",
       "  'ဒီနေ့ ဘာလ ဘာရက်လဲ။',\n",
       "  'အဘိဓာန် ဟိုကစာအုပ်စင်မှာ ရှိတယ်။']}"
      ]
     },
     "execution_count": 102,
     "metadata": {},
     "output_type": "execute_result"
    }
   ],
   "source": [
    "dataset['train'][0:5]"
   ]
  },
  {
   "cell_type": "markdown",
   "metadata": {},
   "source": [
    "Create train, val, and test dataloaders"
   ]
  },
  {
   "cell_type": "code",
   "execution_count": 103,
   "metadata": {},
   "outputs": [],
   "source": [
    "batch_size = 64\n",
    "\n",
    "train_loader = DataLoader(dataset['train'], batch_size=batch_size, shuffle=True, collate_fn=collate_batch)\n",
    "valid_loader = DataLoader(dataset['validation'],   batch_size=batch_size, shuffle=False, collate_fn=collate_batch)\n",
    "test_loader  = DataLoader(dataset['test'],  batch_size=batch_size, shuffle=False, collate_fn=collate_batch)"
   ]
  },
  {
   "cell_type": "markdown",
   "metadata": {},
   "source": [
    "Let's test the train loader."
   ]
  },
  {
   "cell_type": "code",
   "execution_count": 30,
   "metadata": {},
   "outputs": [],
   "source": [
    "for en, _, my in train_loader:\n",
    "    break"
   ]
  },
  {
   "cell_type": "code",
   "execution_count": 31,
   "metadata": {},
   "outputs": [
    {
     "name": "stdout",
     "output_type": "stream",
     "text": [
      "English shape:  torch.Size([64, 18])\n",
      "Myanmar shape:  torch.Size([64, 19])\n"
     ]
    }
   ],
   "source": [
    "print(\"English shape: \", en.shape)  # (batch_size, seq len)\n",
    "print(\"Myanmar shape: \", my.shape)   # (batch_size, seq len)"
   ]
  },
  {
   "cell_type": "markdown",
   "metadata": {},
   "source": [
    "## 5. Design the model\n",
    "\n",
    "<img src=\"./figures/transformer-encoder.png\" >"
   ]
  },
  {
   "cell_type": "markdown",
   "metadata": {},
   "source": [
    "### Encoder Layer"
   ]
  },
  {
   "cell_type": "code",
   "execution_count": 104,
   "metadata": {},
   "outputs": [],
   "source": [
    "class EncoderLayer(nn.Module):\n",
    "    def __init__(self, hid_dim, n_heads, pf_dim, dropout, device,att_mechnism):\n",
    "        super().__init__()\n",
    "        self.self_attn_layer_norm = nn.LayerNorm(hid_dim)\n",
    "        self.ff_layer_norm        = nn.LayerNorm(hid_dim)\n",
    "        self.self_attention       = MultiHeadAttentionLayer(hid_dim, n_heads, dropout, device,att_mechnism)\n",
    "        self.feedforward          = PositionwiseFeedforwardLayer(hid_dim, pf_dim, dropout)\n",
    "        self.dropout              = nn.Dropout(dropout)\n",
    "        \n",
    "    def forward(self, src, src_mask):\n",
    "        #src = [batch size, src len, hid dim]\n",
    "        #src_mask = [batch size, 1, 1, src len]   #if the token is padding, it will be 1, otherwise 0\n",
    "        _src, _ = self.self_attention(src, src, src, src_mask)\n",
    "        src     = self.self_attn_layer_norm(src + self.dropout(_src))\n",
    "        #src: [batch_size, src len, hid dim]\n",
    "        \n",
    "        _src    = self.feedforward(src)\n",
    "        src     = self.ff_layer_norm(src + self.dropout(_src))\n",
    "        #src: [batch_size, src len, hid dim]\n",
    "        \n",
    "        return src"
   ]
  },
  {
   "cell_type": "markdown",
   "metadata": {},
   "source": [
    "### Encoder"
   ]
  },
  {
   "cell_type": "code",
   "execution_count": 105,
   "metadata": {},
   "outputs": [],
   "source": [
    "class Encoder(nn.Module):\n",
    "    def __init__(self, input_dim, hid_dim, n_layers, n_heads, pf_dim, dropout, \n",
    "                 device,att_mechnism, max_length = 100):\n",
    "        super().__init__()\n",
    "        self.device = device\n",
    "        self.tok_embedding = nn.Embedding(input_dim, hid_dim)\n",
    "        self.pos_embedding = nn.Embedding(max_length, hid_dim)\n",
    "        self.layers        = nn.ModuleList([EncoderLayer(hid_dim, n_heads, pf_dim, dropout, \n",
    "                                                         device,att_mechnism)\n",
    "                                           for _ in range(n_layers)])\n",
    "        self.dropout       = nn.Dropout(dropout)\n",
    "        self.scale         = torch.sqrt(torch.FloatTensor([hid_dim])).to(self.device)\n",
    "        \n",
    "    def forward(self, src, src_mask):\n",
    "        \n",
    "        #src = [batch size, src len]\n",
    "        #src_mask = [batch size, 1, 1, src len]\n",
    "        \n",
    "        batch_size = src.shape[0]\n",
    "        src_len    = src.shape[1]\n",
    "        \n",
    "        pos        = torch.arange(0, src_len).unsqueeze(0).repeat(batch_size, 1).to(self.device)\n",
    "        #pos: [batch_size, src_len]\n",
    "        \n",
    "        src        = self.dropout((self.tok_embedding(src) * self.scale) + self.pos_embedding(pos))\n",
    "        #src: [batch_size, src_len, hid_dim]\n",
    "        \n",
    "        for layer in self.layers:\n",
    "            src = layer(src, src_mask)\n",
    "        #src: [batch_size, src_len, hid_dim]\n",
    "        \n",
    "        return src\n",
    "            "
   ]
  },
  {
   "cell_type": "markdown",
   "metadata": {},
   "source": [
    "### Mutli Head Attention Layer\n",
    "\n",
    "<img src = \"./figures/transformer-attention.png\" width=\"700\">\n",
    "\n",
    "$$ \\text{Attention}(Q, K, V) = \\text{Softmax} \\big( \\frac{QK^T}{\\sqrt{d_k}} \\big)V $$ "
   ]
  },
  {
   "cell_type": "markdown",
   "metadata": {},
   "source": [
    "MultiHeadAttentionLayer is modified by adding a attribute \"att_mechnism\". This is to specify the attention mechanisms('gen','mul','add')."
   ]
  },
  {
   "cell_type": "code",
   "execution_count": 106,
   "metadata": {},
   "outputs": [],
   "source": [
    "class MultiHeadAttentionLayer(nn.Module):\n",
    "    def __init__(self, hid_dim, n_heads, dropout, device,att_mechnism='gen'):\n",
    "        super().__init__()\n",
    "        assert hid_dim % n_heads == 0\n",
    "        self.hid_dim  = hid_dim\n",
    "        self.n_heads  = n_heads\n",
    "        self.head_dim = hid_dim // n_heads\n",
    "        self.att_type = att_mechnism\n",
    "        \n",
    "        self.fc_q     = nn.Linear(hid_dim, hid_dim)\n",
    "        self.fc_k     = nn.Linear(hid_dim, hid_dim)\n",
    "        self.fc_v     = nn.Linear(hid_dim, hid_dim)\n",
    "\n",
    "        self.v = nn.Linear(self.head_dim, 1)\n",
    "        self.W = nn.Linear(self.head_dim, self.head_dim) \n",
    "        self.U = nn.Linear(self.head_dim, self.head_dim)  \n",
    "        \n",
    "        self.fc_o     = nn.Linear(hid_dim, hid_dim)\n",
    "        \n",
    "        self.dropout  = nn.Dropout(dropout)\n",
    "        \n",
    "        self.scale    = torch.sqrt(torch.FloatTensor([self.head_dim])).to(device)\n",
    "                \n",
    "    def forward(self, query, key, value, mask = None):\n",
    "        #src, src, src, src_mask\n",
    "        #query = [batch size, query len, hid dim]\n",
    "        #key = [batch size, key len, hid dim]\n",
    "        #value = [batch size, value len, hid dim]\n",
    "        \n",
    "        batch_size = query.shape[0]\n",
    "        \n",
    "        Q = self.fc_q(query)\n",
    "        K = self.fc_k(key)\n",
    "        V = self.fc_v(value)\n",
    "        #Q=K=V: [batch_size, src len, hid_dim]\n",
    "        \n",
    "        Q = Q.view(batch_size, -1, self.n_heads, self.head_dim).permute(0, 2, 1, 3)\n",
    "        K = K.view(batch_size, -1, self.n_heads, self.head_dim).permute(0, 2, 1, 3)\n",
    "        V = V.view(batch_size, -1, self.n_heads, self.head_dim).permute(0, 2, 1, 3)\n",
    "        #Q = [batch_size, n heads, query len, head_dim]\n",
    "        if self.att_type == 'gen':\n",
    "            energy = torch.matmul(Q, K.permute(0, 1, 3, 2)) / self.scale\n",
    "        #Q = [batch_size, n heads, query len, head_dim] @ K = [batch_size, n heads, head_dim, key len]\n",
    "        #energy = [batch_size, n heads, query len, key len]\n",
    "        elif self.att_type == 'mul':\n",
    "            energy = torch.matmul(Q, self.W(K).permute(0, 1, 3, 2)) / self.scale\n",
    "        else:\n",
    "            # energy = self.v(torch.tanh(self.W(Q) + self.U(K)))\n",
    "            # print(energy.shape)\n",
    "            Q = Q.view(batch_size, self.n_heads, query.shape[1], 1, self.head_dim)\n",
    "            K = K.view(batch_size, self.n_heads, 1, key.shape[1], self.head_dim)\n",
    "            # Q = [batch_size, n heads, query len, 1, head_dim]\n",
    "            # K = [batch_size, n heads, 1, key len, head_dim]\n",
    "    \n",
    "            energy = (self.v(torch.tanh(self.W(Q) + self.U(K))) / self.scale).squeeze(4)\n",
    "            #energy = [batch_size, n heads, query len, key len]\n",
    "        \n",
    "        #for making attention to padding to 0\n",
    "        if mask is not None:\n",
    "            energy = energy.masked_fill(mask == 0, -1e10)\n",
    "            \n",
    "        attention = torch.softmax(energy, dim = -1)\n",
    "        #attention = [batch_size, n heads, query len, key len]\n",
    "        \n",
    "        x = torch.matmul(self.dropout(attention), V)\n",
    "        #[batch_size, n heads, query len, key len] @ [batch_size, n heads, value len, head_dim]\n",
    "        #x = [batch_size, n heads, query len, head dim]\n",
    "        \n",
    "        x = x.permute(0, 2, 1, 3).contiguous()  #we can perform .view\n",
    "        #x = [batch_size, query len, n heads, head dim]\n",
    "        \n",
    "        x = x.view(batch_size, -1, self.hid_dim)\n",
    "        #x = [batch_size, query len, hid dim]\n",
    "        \n",
    "        x = self.fc_o(x)\n",
    "        #x = [batch_size, query len, hid dim]\n",
    "        \n",
    "        return x, attention\n",
    "        "
   ]
  },
  {
   "cell_type": "markdown",
   "metadata": {},
   "source": [
    "### Position-wise Feedforward Layer"
   ]
  },
  {
   "cell_type": "code",
   "execution_count": 107,
   "metadata": {},
   "outputs": [],
   "source": [
    "class PositionwiseFeedforwardLayer(nn.Module):\n",
    "    def __init__(self, hid_dim, pf_dim, dropout):\n",
    "        super().__init__()\n",
    "        self.fc1 = nn.Linear(hid_dim, pf_dim)\n",
    "        self.fc2 = nn.Linear(pf_dim, hid_dim)\n",
    "        self.dropout = nn.Dropout(dropout)\n",
    "        \n",
    "    def forward(self, x):\n",
    "        #x = [batch size, src len, hid dim]\n",
    "        x = self.dropout(torch.relu(self.fc1(x)))\n",
    "        x = self.fc2(x)\n",
    "        \n",
    "        return x"
   ]
  },
  {
   "cell_type": "markdown",
   "metadata": {
    "tags": []
   },
   "source": [
    "### Decoder Layer\n",
    "\n",
    "<img src = \"./figures/transformer-decoder.png\" >"
   ]
  },
  {
   "cell_type": "code",
   "execution_count": 108,
   "metadata": {},
   "outputs": [],
   "source": [
    "class DecoderLayer(nn.Module):\n",
    "    def __init__(self, hid_dim, n_heads, pf_dim, dropout, device,att_mechnism):\n",
    "        super().__init__()\n",
    "        self.self_attn_layer_norm = nn.LayerNorm(hid_dim)\n",
    "        self.enc_attn_layer_norm  = nn.LayerNorm(hid_dim)\n",
    "        self.ff_layer_norm        = nn.LayerNorm(hid_dim)\n",
    "        self.self_attention       = MultiHeadAttentionLayer(hid_dim, n_heads, dropout, device,att_mechnism)\n",
    "        self.encoder_attention    = MultiHeadAttentionLayer(hid_dim, n_heads, dropout, device,att_mechnism)\n",
    "        self.feedforward          = PositionwiseFeedforwardLayer(hid_dim, pf_dim, dropout)\n",
    "        self.dropout              = nn.Dropout(dropout)\n",
    "        \n",
    "    def forward(self, trg, enc_src, trg_mask, src_mask):\n",
    "        \n",
    "        #trg = [batch size, trg len, hid dim]\n",
    "        #enc_src = [batch size, src len, hid dim]\n",
    "        #trg_mask = [batch size, 1, trg len, trg len]\n",
    "        #src_mask = [batch size, 1, 1, src len]\n",
    "        \n",
    "        _trg, _ = self.self_attention(trg, trg, trg, trg_mask)\n",
    "        trg     = self.self_attn_layer_norm(trg + self.dropout(_trg))\n",
    "        #trg = [batch_size, trg len, hid dim]\n",
    "        \n",
    "        _trg, attention = self.encoder_attention(trg, enc_src, enc_src, src_mask)\n",
    "        trg             = self.enc_attn_layer_norm(trg + self.dropout(_trg))\n",
    "        #trg = [batch_size, trg len, hid dim]\n",
    "        #attention = [batch_size, n heads, trg len, src len]\n",
    "        \n",
    "        _trg = self.feedforward(trg)\n",
    "        trg  = self.ff_layer_norm(trg + self.dropout(_trg))\n",
    "        #trg = [batch_size, trg len, hid dim]\n",
    "        \n",
    "        return trg, attention"
   ]
  },
  {
   "cell_type": "markdown",
   "metadata": {},
   "source": [
    "### Decoder"
   ]
  },
  {
   "cell_type": "code",
   "execution_count": 109,
   "metadata": {},
   "outputs": [],
   "source": [
    "class Decoder(nn.Module):\n",
    "    def __init__(self, output_dim, hid_dim, n_layers, n_heads, \n",
    "                 pf_dim, dropout, device,att_mechnism,max_length = 100):\n",
    "        super().__init__()\n",
    "        self.device = device\n",
    "        self.tok_embedding = nn.Embedding(output_dim, hid_dim)\n",
    "        self.pos_embedding = nn.Embedding(max_length, hid_dim)\n",
    "        self.layers        = nn.ModuleList([DecoderLayer(hid_dim, n_heads, pf_dim, \n",
    "                                                         dropout, device,att_mechnism)\n",
    "                                            for _ in range(n_layers)])\n",
    "        self.fc_out        = nn.Linear(hid_dim, output_dim)\n",
    "        self.dropout       = nn.Dropout(dropout)\n",
    "        self.scale         = torch.sqrt(torch.FloatTensor([hid_dim])).to(device)\n",
    "        \n",
    "    def forward(self, trg, enc_src, trg_mask, src_mask):\n",
    "        \n",
    "        #trg = [batch size, trg len]\n",
    "        #enc_src = [batch size, src len, hid dim]\n",
    "        #trg_mask = [batch size, 1, trg len, trg len]\n",
    "        #src_mask = [batch size, 1, 1, src len]\n",
    "        \n",
    "        batch_size = trg.shape[0]\n",
    "        trg_len    = trg.shape[1]\n",
    "        \n",
    "        pos = torch.arange(0, trg_len).unsqueeze(0).repeat(batch_size, 1).to(self.device)\n",
    "        #pos: [batch_size, trg len]\n",
    "        \n",
    "        trg = self.dropout((self.tok_embedding(trg) * self.scale) + self.pos_embedding(pos))\n",
    "        #trg: [batch_size, trg len, hid dim]\n",
    "        \n",
    "        for layer in self.layers:\n",
    "            trg, attention = layer(trg, enc_src, trg_mask, src_mask)\n",
    "            \n",
    "        #trg: [batch_size, trg len, hid dim]\n",
    "        #attention: [batch_size, n heads, trg len, src len]\n",
    "        \n",
    "        output = self.fc_out(trg)\n",
    "        #output = [batch_size, trg len, output_dim]\n",
    "        \n",
    "        return output, attention"
   ]
  },
  {
   "cell_type": "markdown",
   "metadata": {},
   "source": [
    "### Putting them together (become Seq2Seq!)\n",
    "\n",
    "Our `trg_sub_mask` will look something like this (for a target with 5 tokens):\n",
    "\n",
    "$$\\begin{matrix}\n",
    "1 & 0 & 0 & 0 & 0\\\\\n",
    "1 & 1 & 0 & 0 & 0\\\\\n",
    "1 & 1 & 1 & 0 & 0\\\\\n",
    "1 & 1 & 1 & 1 & 0\\\\\n",
    "1 & 1 & 1 & 1 & 1\\\\\n",
    "\\end{matrix}$$\n",
    "\n",
    "The \"subsequent\" mask is then logically anded with the padding mask, this combines the two masks ensuring both the subsequent tokens and the padding tokens cannot be attended to. For example if the last two tokens were `<pad>` tokens the mask would look like:\n",
    "\n",
    "$$\\begin{matrix}\n",
    "1 & 0 & 0 & 0 & 0\\\\\n",
    "1 & 1 & 0 & 0 & 0\\\\\n",
    "1 & 1 & 1 & 0 & 0\\\\\n",
    "1 & 1 & 1 & 0 & 0\\\\\n",
    "1 & 1 & 1 & 0 & 0\\\\\n",
    "\\end{matrix}$$"
   ]
  },
  {
   "cell_type": "code",
   "execution_count": 110,
   "metadata": {},
   "outputs": [],
   "source": [
    "class Seq2SeqTransformer(nn.Module):\n",
    "    def __init__(self, encoder, decoder, src_pad_idx, trg_pad_idx, device):\n",
    "        super().__init__()\n",
    "        \n",
    "        self.encoder = encoder\n",
    "        self.decoder = decoder\n",
    "        self.src_pad_idx = src_pad_idx\n",
    "        self.trg_pad_idx = trg_pad_idx\n",
    "        self.device = device\n",
    "        \n",
    "    def make_src_mask(self, src):\n",
    "        \n",
    "        #src = [batch size, src len]\n",
    "        \n",
    "        src_mask = (src != self.src_pad_idx).unsqueeze(1).unsqueeze(2)\n",
    "        #src_mask = [batch size, 1, 1, src len]\n",
    "\n",
    "        return src_mask\n",
    "    \n",
    "    def make_trg_mask(self, trg):\n",
    "        \n",
    "        #trg = [batch size, trg len]\n",
    "        \n",
    "        trg_pad_mask = (trg != self.trg_pad_idx).unsqueeze(1).unsqueeze(2)\n",
    "        #trg_pad_mask = [batch size, 1, 1, trg len]\n",
    "        \n",
    "        trg_len = trg.shape[1]\n",
    "        \n",
    "        trg_sub_mask = torch.tril(torch.ones((trg_len, trg_len), device = self.device)).bool()\n",
    "        #trg_sub_mask = [trg len, trg len]\n",
    "            \n",
    "        trg_mask = trg_pad_mask & trg_sub_mask\n",
    "        #trg_mask = [batch size, 1, trg len, trg len]\n",
    "        \n",
    "        return trg_mask\n",
    "\n",
    "    def forward(self, src, trg):\n",
    "        \n",
    "        #src = [batch size, src len]\n",
    "        #trg = [batch size, trg len]\n",
    "                \n",
    "        src_mask = self.make_src_mask(src)\n",
    "        trg_mask = self.make_trg_mask(trg)\n",
    "        \n",
    "        #src_mask = [batch size, 1, 1, src len]\n",
    "        #trg_mask = [batch size, 1, trg len, trg len]\n",
    "        \n",
    "        enc_src = self.encoder(src, src_mask)\n",
    "        #enc_src = [batch size, src len, hid dim]\n",
    "                \n",
    "        output, attention = self.decoder(trg, enc_src, trg_mask, src_mask)\n",
    "        \n",
    "        #output = [batch size, trg len, output dim]\n",
    "        #attention = [batch size, n heads, trg len, src len]\n",
    "        \n",
    "        return output, attention"
   ]
  },
  {
   "cell_type": "markdown",
   "metadata": {
    "tags": []
   },
   "source": [
    "## 6. Training"
   ]
  },
  {
   "cell_type": "code",
   "execution_count": 111,
   "metadata": {},
   "outputs": [],
   "source": [
    "def initialize_weights(m):\n",
    "    if hasattr(m, 'weight') and m.weight.dim() > 1:\n",
    "        nn.init.xavier_uniform_(m.weight.data)"
   ]
  },
  {
   "cell_type": "code",
   "execution_count": 112,
   "metadata": {},
   "outputs": [],
   "source": [
    "input_dim   = len(vocab_transform[SRC_LANGUAGE])\n",
    "output_dim  = len(vocab_transform[TRG_LANGUAGE])\n",
    "SRC_PAD_IDX = PAD_IDX\n",
    "TRG_PAD_IDX = PAD_IDX\n",
    "def create_model(input_dim,output_dim,SRC_PAD_IDX,TRG_PAD_IDX,att_mechnism,\n",
    "    hid_dim = 256,\n",
    "    enc_layers = 3,\n",
    "    dec_layers = 3,\n",
    "    enc_heads = 8,\n",
    "    dec_heads = 8,\n",
    "    enc_pf_dim = 512,\n",
    "    dec_pf_dim = 512,\n",
    "    enc_dropout = 0.1,\n",
    "    dec_dropout = 0.1) :\n",
    "\n",
    "    \n",
    "    SRC_PAD_IDX = PAD_IDX\n",
    "    TRG_PAD_IDX = PAD_IDX\n",
    "    \n",
    "    enc = Encoder(input_dim, \n",
    "                  hid_dim, \n",
    "                  enc_layers, \n",
    "                  enc_heads, \n",
    "                  enc_pf_dim, \n",
    "                  enc_dropout, \n",
    "                  device,att_mechnism)\n",
    "    \n",
    "    dec = Decoder(output_dim, \n",
    "                  hid_dim, \n",
    "                  dec_layers, \n",
    "                  dec_heads, \n",
    "                  dec_pf_dim, \n",
    "                  enc_dropout, \n",
    "                  device,att_mechnism)\n",
    "    \n",
    "    model = Seq2SeqTransformer(enc, dec, SRC_PAD_IDX, TRG_PAD_IDX, device).to(device)\n",
    "    model.apply(initialize_weights)\n",
    "    return model"
   ]
  },
  {
   "cell_type": "code",
   "execution_count": 41,
   "metadata": {},
   "outputs": [],
   "source": [
    "#we can print the complexity by the number of parameters\n",
    "def count_parameters(model):\n",
    "    params = [p.numel() for p in model.parameters() if p.requires_grad]\n",
    "    # for item in params:\n",
    "    #     print(f'{item:>6}')\n",
    "    print(f'parameters : {sum(params):>6}')\n",
    "    \n",
    "# count_parameters(model)"
   ]
  },
  {
   "cell_type": "markdown",
   "metadata": {},
   "source": [
    "Then, we'll define our training loop. This is the exact same as the one used in the previous tutorial.\n",
    "\n",
    "As we want our model to predict the `<eos>` token but not have it be an input into our model we simply slice the `<eos>` token off the end of the sequence. Thus:\n",
    "\n",
    "$$\\begin{align*}\n",
    "\\text{trg} &= [sos, x_1, x_2, x_3, eos]\\\\\n",
    "\\text{trg[:-1]} &= [sos, x_1, x_2, x_3]\n",
    "\\end{align*}$$\n",
    "\n",
    "$x_i$ denotes actual target sequence element. We then feed this into the model to get a predicted sequence that should hopefully predict the `<eos>` token:\n",
    "\n",
    "$$\\begin{align*}\n",
    "\\text{output} &= [y_1, y_2, y_3, eos]\n",
    "\\end{align*}$$\n",
    "\n",
    "$y_i$ denotes predicted target sequence element. We then calculate our loss using the original `trg` tensor with the `<sos>` token sliced off the front, leaving the `<eos>` token:\n",
    "\n",
    "$$\\begin{align*}\n",
    "\\text{output} &= [y_1, y_2, y_3, eos]\\\\\n",
    "\\text{trg[1:]} &= [x_1, x_2, x_3, eos]\n",
    "\\end{align*}$$\n",
    "\n",
    "We then calculate our losses and update our parameters as is standard."
   ]
  },
  {
   "cell_type": "code",
   "execution_count": 113,
   "metadata": {},
   "outputs": [],
   "source": [
    "def train(model, loader, optimizer, criterion, clip, loader_length):\n",
    "    \n",
    "    model.train()\n",
    "    \n",
    "    epoch_loss = 0\n",
    "    \n",
    "    for src, src_len, trg in loader:\n",
    "        \n",
    "        src = src.to(device)\n",
    "        trg = trg.to(device)\n",
    "        \n",
    "        optimizer.zero_grad()\n",
    "        \n",
    "        #trg[:, :-1] remove the eos, e.g., \"<sos> I love sushi\" since teaching forcing, the input does not need to have eos\n",
    "        output, _ = model(src, trg[:,:-1])\n",
    "                \n",
    "        #output = [batch size, trg len - 1, output dim]\n",
    "        #trg    = [batch size, trg len]\n",
    "            \n",
    "        output_dim = output.shape[-1]\n",
    "            \n",
    "        output = output.reshape(-1, output_dim)\n",
    "        trg = trg[:,1:].reshape(-1) #trg[:, 1:] remove the sos, e.g., \"i love sushi <eos>\" since in teaching forcing, the output does not have sos\n",
    "                \n",
    "        #output = [batch size * trg len - 1, output dim]\n",
    "        #trg    = [batch size * trg len - 1]\n",
    "            \n",
    "        loss = criterion(output, trg)\n",
    "        \n",
    "        loss.backward()\n",
    "        \n",
    "        torch.nn.utils.clip_grad_norm_(model.parameters(), clip)\n",
    "        \n",
    "        optimizer.step()\n",
    "        \n",
    "        epoch_loss += loss.item()\n",
    "        \n",
    "    return epoch_loss / loader_length"
   ]
  },
  {
   "cell_type": "markdown",
   "metadata": {},
   "source": [
    "Our evaluation loop is similar to our training loop, however as we aren't updating any parameters we don't need to pass an optimizer or a clip value."
   ]
  },
  {
   "cell_type": "code",
   "execution_count": 114,
   "metadata": {},
   "outputs": [],
   "source": [
    "def evaluate(model, loader, criterion, loader_length):\n",
    "    \n",
    "    model.eval()\n",
    "    \n",
    "    epoch_loss = 0\n",
    "    \n",
    "    with torch.no_grad():\n",
    "    \n",
    "        for src, src_len, trg in loader:\n",
    "        \n",
    "            src = src.to(device)\n",
    "            trg = trg.to(device)\n",
    "\n",
    "            output, _ = model(src, trg[:,:-1])\n",
    "            \n",
    "            #output = [batch size, trg len - 1, output dim]\n",
    "            #trg = [batch size, trg len]\n",
    "            \n",
    "            output_dim = output.shape[-1]\n",
    "            \n",
    "            output = output.contiguous().view(-1, output_dim)\n",
    "            trg = trg[:,1:].contiguous().view(-1)\n",
    "            \n",
    "            #output = [batch size * trg len - 1, output dim]\n",
    "            #trg = [batch size * trg len - 1]\n",
    "            \n",
    "            loss = criterion(output, trg)\n",
    "\n",
    "            epoch_loss += loss.item()\n",
    "        \n",
    "    return epoch_loss / loader_length"
   ]
  },
  {
   "cell_type": "markdown",
   "metadata": {},
   "source": [
    "### Putting everything together\n",
    "\n",
    "Finally, we train our actual model. This model is almost 3x faster than the convolutional sequence-to-sequence model and also achieves a lower validation perplexity!\n",
    "\n",
    "**Note: similar to CNN, this model always has a teacher forcing ratio of 1, i.e. it will always use the ground truth next token from the target sequence (this is simply because CNN do everything in parallel so we cannot have the next token). This means we cannot compare perplexity values against the previous models when they are using a teacher forcing ratio that is not 1. To understand this, try run previous tutorials with teaching forcing ratio of 1, you will get very low perplexity.  **   "
   ]
  },
  {
   "cell_type": "code",
   "execution_count": 115,
   "metadata": {},
   "outputs": [],
   "source": [
    "train_loader_length = len(list(iter(train_loader)))\n",
    "val_loader_length   = len(list(iter(valid_loader)))\n",
    "test_loader_length  = len(list(iter(test_loader)))"
   ]
  },
  {
   "cell_type": "code",
   "execution_count": 116,
   "metadata": {},
   "outputs": [],
   "source": [
    "def epoch_time(start_time, end_time):\n",
    "    elapsed_time = end_time - start_time\n",
    "    elapsed_mins = int(elapsed_time / 60)\n",
    "    elapsed_secs = int(elapsed_time - (elapsed_mins * 60))\n",
    "    return elapsed_mins, elapsed_secs"
   ]
  },
  {
   "cell_type": "code",
   "execution_count": 117,
   "metadata": {},
   "outputs": [],
   "source": [
    "# save_path = f'./{model.__class__.__name__}.pt'\n",
    "\n",
    "def log_training(save_path,num_epochs,model):\n",
    "    train_losses = []\n",
    "    valid_losses = []\n",
    "    best_valid_loss = float('inf')\n",
    "    start = time.time()\n",
    "    for epoch in range(num_epochs):\n",
    "        \n",
    "        start_time = time.time()\n",
    "    \n",
    "        train_loss = train(model, train_loader, optimizer, criterion, clip, train_loader_length)\n",
    "        valid_loss = evaluate(model, valid_loader, criterion, val_loader_length)\n",
    "        \n",
    "        #for plotting\n",
    "        train_losses.append(train_loss)\n",
    "        valid_losses.append(valid_loss)\n",
    "        \n",
    "        end_time = time.time()\n",
    "        \n",
    "        epoch_mins, epoch_secs = epoch_time(start_time, end_time)\n",
    "    \n",
    "        \n",
    "        if valid_loss < best_valid_loss:\n",
    "            best_valid_loss = valid_loss\n",
    "            torch.save(model.state_dict(), save_path)\n",
    "        \n",
    "        print(f'Epoch: {epoch+1:02} | Time: {epoch_mins}m {epoch_secs}s')\n",
    "        print(f'\\tTrain Loss: {train_loss:.3f} | Train PPL: {math.exp(train_loss):7.3f}')\n",
    "        print(f'\\t Val. Loss: {valid_loss:.3f} |  Val. PPL: {math.exp(valid_loss):7.3f}')\n",
    "    end = time.time()\n",
    "    return train_losses,valid_losses,end-start\n",
    "        #lower perplexity is better"
   ]
  },
  {
   "cell_type": "code",
   "execution_count": 118,
   "metadata": {},
   "outputs": [],
   "source": [
    "import torch.optim as optim\n",
    "num_epochs = 30\n",
    "clip       = 1"
   ]
  },
  {
   "cell_type": "markdown",
   "metadata": {},
   "source": [
    "### General attention model"
   ]
  },
  {
   "cell_type": "code",
   "execution_count": 48,
   "metadata": {},
   "outputs": [
    {
     "name": "stdout",
     "output_type": "stream",
     "text": [
      "parameters : 4543451\n",
      "Epoch: 01 | Time: 0m 19s\n",
      "\tTrain Loss: 5.188 | Train PPL: 179.121\n",
      "\t Val. Loss: 4.467 |  Val. PPL:  87.131\n",
      "Epoch: 02 | Time: 0m 18s\n",
      "\tTrain Loss: 4.270 | Train PPL:  71.534\n",
      "\t Val. Loss: 3.918 |  Val. PPL:  50.309\n",
      "Epoch: 03 | Time: 0m 18s\n",
      "\tTrain Loss: 3.774 | Train PPL:  43.564\n",
      "\t Val. Loss: 3.502 |  Val. PPL:  33.193\n",
      "Epoch: 04 | Time: 0m 18s\n",
      "\tTrain Loss: 3.316 | Train PPL:  27.560\n",
      "\t Val. Loss: 3.125 |  Val. PPL:  22.753\n",
      "Epoch: 05 | Time: 0m 18s\n",
      "\tTrain Loss: 2.845 | Train PPL:  17.208\n",
      "\t Val. Loss: 2.872 |  Val. PPL:  17.675\n",
      "Epoch: 06 | Time: 0m 18s\n",
      "\tTrain Loss: 2.555 | Train PPL:  12.873\n",
      "\t Val. Loss: 2.676 |  Val. PPL:  14.521\n",
      "Epoch: 07 | Time: 0m 18s\n",
      "\tTrain Loss: 2.173 | Train PPL:   8.787\n",
      "\t Val. Loss: 2.611 |  Val. PPL:  13.617\n",
      "Epoch: 08 | Time: 0m 18s\n",
      "\tTrain Loss: 1.922 | Train PPL:   6.838\n",
      "\t Val. Loss: 2.599 |  Val. PPL:  13.451\n",
      "Epoch: 09 | Time: 0m 18s\n",
      "\tTrain Loss: 1.660 | Train PPL:   5.258\n",
      "\t Val. Loss: 2.556 |  Val. PPL:  12.889\n",
      "Epoch: 10 | Time: 0m 18s\n",
      "\tTrain Loss: 1.448 | Train PPL:   4.255\n",
      "\t Val. Loss: 2.557 |  Val. PPL:  12.894\n",
      "Epoch: 11 | Time: 0m 18s\n",
      "\tTrain Loss: 1.282 | Train PPL:   3.606\n",
      "\t Val. Loss: 2.589 |  Val. PPL:  13.313\n",
      "Epoch: 12 | Time: 0m 18s\n",
      "\tTrain Loss: 1.119 | Train PPL:   3.061\n",
      "\t Val. Loss: 2.553 |  Val. PPL:  12.847\n",
      "Epoch: 13 | Time: 0m 18s\n",
      "\tTrain Loss: 0.960 | Train PPL:   2.611\n",
      "\t Val. Loss: 2.614 |  Val. PPL:  13.658\n",
      "Epoch: 14 | Time: 0m 18s\n",
      "\tTrain Loss: 0.841 | Train PPL:   2.318\n",
      "\t Val. Loss: 2.658 |  Val. PPL:  14.274\n",
      "Epoch: 15 | Time: 0m 18s\n",
      "\tTrain Loss: 0.733 | Train PPL:   2.081\n",
      "\t Val. Loss: 2.620 |  Val. PPL:  13.733\n",
      "Epoch: 16 | Time: 0m 18s\n",
      "\tTrain Loss: 0.637 | Train PPL:   1.891\n",
      "\t Val. Loss: 2.690 |  Val. PPL:  14.737\n",
      "Epoch: 17 | Time: 0m 18s\n",
      "\tTrain Loss: 0.590 | Train PPL:   1.803\n",
      "\t Val. Loss: 2.789 |  Val. PPL:  16.265\n",
      "Epoch: 18 | Time: 0m 18s\n",
      "\tTrain Loss: 0.514 | Train PPL:   1.672\n",
      "\t Val. Loss: 2.801 |  Val. PPL:  16.462\n",
      "Epoch: 19 | Time: 0m 18s\n",
      "\tTrain Loss: 0.467 | Train PPL:   1.596\n",
      "\t Val. Loss: 2.802 |  Val. PPL:  16.480\n",
      "Epoch: 20 | Time: 0m 18s\n",
      "\tTrain Loss: 0.410 | Train PPL:   1.507\n",
      "\t Val. Loss: 2.841 |  Val. PPL:  17.135\n",
      "Epoch: 21 | Time: 0m 18s\n",
      "\tTrain Loss: 0.377 | Train PPL:   1.458\n",
      "\t Val. Loss: 2.825 |  Val. PPL:  16.855\n",
      "Epoch: 22 | Time: 0m 18s\n",
      "\tTrain Loss: 0.349 | Train PPL:   1.417\n",
      "\t Val. Loss: 3.019 |  Val. PPL:  20.463\n",
      "Epoch: 23 | Time: 0m 18s\n",
      "\tTrain Loss: 0.316 | Train PPL:   1.372\n",
      "\t Val. Loss: 3.006 |  Val. PPL:  20.202\n",
      "Epoch: 24 | Time: 0m 18s\n",
      "\tTrain Loss: 0.300 | Train PPL:   1.349\n",
      "\t Val. Loss: 2.995 |  Val. PPL:  19.993\n",
      "Epoch: 25 | Time: 0m 18s\n",
      "\tTrain Loss: 0.280 | Train PPL:   1.323\n",
      "\t Val. Loss: 3.058 |  Val. PPL:  21.295\n",
      "Epoch: 26 | Time: 0m 18s\n",
      "\tTrain Loss: 0.261 | Train PPL:   1.298\n",
      "\t Val. Loss: 3.122 |  Val. PPL:  22.696\n",
      "Epoch: 27 | Time: 0m 18s\n",
      "\tTrain Loss: 0.235 | Train PPL:   1.265\n",
      "\t Val. Loss: 3.145 |  Val. PPL:  23.227\n",
      "Epoch: 28 | Time: 0m 18s\n",
      "\tTrain Loss: 0.235 | Train PPL:   1.264\n",
      "\t Val. Loss: 3.106 |  Val. PPL:  22.331\n",
      "Epoch: 29 | Time: 0m 18s\n",
      "\tTrain Loss: 0.227 | Train PPL:   1.255\n",
      "\t Val. Loss: 3.137 |  Val. PPL:  23.038\n",
      "Epoch: 30 | Time: 0m 18s\n",
      "\tTrain Loss: 0.214 | Train PPL:   1.239\n",
      "\t Val. Loss: 3.194 |  Val. PPL:  24.397\n"
     ]
    },
    {
     "data": {
      "text/plain": [
       "568.960705280304"
      ]
     },
     "execution_count": 48,
     "metadata": {},
     "output_type": "execute_result"
    }
   ],
   "source": [
    "gen_model = create_model(input_dim,output_dim,SRC_PAD_IDX,TRG_PAD_IDX,'gen')\n",
    "count_parameters(gen_model)\n",
    "lr = 0.001\n",
    "#training hyperparameters\n",
    "optimizer = optim.Adam(gen_model.parameters(), lr=lr)\n",
    "criterion = nn.CrossEntropyLoss(ignore_index = TRG_PAD_IDX) #combine softmax with cross entropy\n",
    "\n",
    "gen_train_loss,gen_val_loss,gen_train_time = log_training('./app/model/gen.pt',num_epochs,gen_model)\n",
    "gen_train_time"
   ]
  },
  {
   "cell_type": "markdown",
   "metadata": {},
   "source": [
    "### Multiplicative attention model"
   ]
  },
  {
   "cell_type": "code",
   "execution_count": 49,
   "metadata": {},
   "outputs": [
    {
     "name": "stdout",
     "output_type": "stream",
     "text": [
      "parameters : 4543451\n",
      "Epoch: 01 | Time: 0m 18s\n",
      "\tTrain Loss: 5.064 | Train PPL: 158.178\n",
      "\t Val. Loss: 4.354 |  Val. PPL:  77.820\n",
      "Epoch: 02 | Time: 0m 18s\n",
      "\tTrain Loss: 4.227 | Train PPL:  68.541\n",
      "\t Val. Loss: 3.850 |  Val. PPL:  47.007\n",
      "Epoch: 03 | Time: 0m 18s\n",
      "\tTrain Loss: 3.718 | Train PPL:  41.180\n",
      "\t Val. Loss: 3.324 |  Val. PPL:  27.784\n",
      "Epoch: 04 | Time: 0m 18s\n",
      "\tTrain Loss: 3.240 | Train PPL:  25.526\n",
      "\t Val. Loss: 3.148 |  Val. PPL:  23.287\n",
      "Epoch: 05 | Time: 0m 18s\n",
      "\tTrain Loss: 2.810 | Train PPL:  16.615\n",
      "\t Val. Loss: 2.858 |  Val. PPL:  17.429\n",
      "Epoch: 06 | Time: 0m 18s\n",
      "\tTrain Loss: 2.446 | Train PPL:  11.538\n",
      "\t Val. Loss: 2.716 |  Val. PPL:  15.119\n",
      "Epoch: 07 | Time: 0m 18s\n",
      "\tTrain Loss: 2.145 | Train PPL:   8.539\n",
      "\t Val. Loss: 2.674 |  Val. PPL:  14.499\n",
      "Epoch: 08 | Time: 0m 18s\n",
      "\tTrain Loss: 1.892 | Train PPL:   6.634\n",
      "\t Val. Loss: 2.512 |  Val. PPL:  12.335\n",
      "Epoch: 09 | Time: 0m 18s\n",
      "\tTrain Loss: 1.660 | Train PPL:   5.257\n",
      "\t Val. Loss: 2.533 |  Val. PPL:  12.587\n",
      "Epoch: 10 | Time: 0m 18s\n",
      "\tTrain Loss: 1.461 | Train PPL:   4.309\n",
      "\t Val. Loss: 2.438 |  Val. PPL:  11.449\n",
      "Epoch: 11 | Time: 0m 18s\n",
      "\tTrain Loss: 1.264 | Train PPL:   3.538\n",
      "\t Val. Loss: 2.499 |  Val. PPL:  12.169\n",
      "Epoch: 12 | Time: 0m 18s\n",
      "\tTrain Loss: 1.113 | Train PPL:   3.044\n",
      "\t Val. Loss: 2.475 |  Val. PPL:  11.884\n",
      "Epoch: 13 | Time: 0m 18s\n",
      "\tTrain Loss: 0.975 | Train PPL:   2.652\n",
      "\t Val. Loss: 2.484 |  Val. PPL:  11.989\n",
      "Epoch: 14 | Time: 0m 18s\n",
      "\tTrain Loss: 0.859 | Train PPL:   2.361\n",
      "\t Val. Loss: 2.492 |  Val. PPL:  12.090\n",
      "Epoch: 15 | Time: 0m 18s\n",
      "\tTrain Loss: 0.742 | Train PPL:   2.101\n",
      "\t Val. Loss: 2.542 |  Val. PPL:  12.705\n",
      "Epoch: 16 | Time: 0m 18s\n",
      "\tTrain Loss: 0.663 | Train PPL:   1.941\n",
      "\t Val. Loss: 2.521 |  Val. PPL:  12.438\n",
      "Epoch: 17 | Time: 0m 18s\n",
      "\tTrain Loss: 0.578 | Train PPL:   1.782\n",
      "\t Val. Loss: 2.609 |  Val. PPL:  13.582\n",
      "Epoch: 18 | Time: 0m 18s\n",
      "\tTrain Loss: 0.511 | Train PPL:   1.667\n",
      "\t Val. Loss: 2.635 |  Val. PPL:  13.949\n",
      "Epoch: 19 | Time: 0m 18s\n",
      "\tTrain Loss: 0.481 | Train PPL:   1.617\n",
      "\t Val. Loss: 2.662 |  Val. PPL:  14.328\n",
      "Epoch: 20 | Time: 0m 18s\n",
      "\tTrain Loss: 0.436 | Train PPL:   1.546\n",
      "\t Val. Loss: 2.607 |  Val. PPL:  13.559\n",
      "Epoch: 21 | Time: 0m 18s\n",
      "\tTrain Loss: 0.393 | Train PPL:   1.481\n",
      "\t Val. Loss: 2.709 |  Val. PPL:  15.014\n",
      "Epoch: 22 | Time: 0m 18s\n",
      "\tTrain Loss: 0.371 | Train PPL:   1.449\n",
      "\t Val. Loss: 2.693 |  Val. PPL:  14.779\n",
      "Epoch: 23 | Time: 0m 18s\n",
      "\tTrain Loss: 0.329 | Train PPL:   1.390\n",
      "\t Val. Loss: 2.795 |  Val. PPL:  16.369\n",
      "Epoch: 24 | Time: 0m 18s\n",
      "\tTrain Loss: 0.305 | Train PPL:   1.357\n",
      "\t Val. Loss: 2.788 |  Val. PPL:  16.256\n",
      "Epoch: 25 | Time: 0m 18s\n",
      "\tTrain Loss: 0.292 | Train PPL:   1.340\n",
      "\t Val. Loss: 2.859 |  Val. PPL:  17.436\n",
      "Epoch: 26 | Time: 0m 18s\n",
      "\tTrain Loss: 0.273 | Train PPL:   1.313\n",
      "\t Val. Loss: 3.085 |  Val. PPL:  21.878\n",
      "Epoch: 27 | Time: 0m 18s\n",
      "\tTrain Loss: 0.269 | Train PPL:   1.309\n",
      "\t Val. Loss: 3.038 |  Val. PPL:  20.854\n",
      "Epoch: 28 | Time: 0m 18s\n",
      "\tTrain Loss: 0.251 | Train PPL:   1.285\n",
      "\t Val. Loss: 2.999 |  Val. PPL:  20.074\n",
      "Epoch: 29 | Time: 0m 18s\n",
      "\tTrain Loss: 0.249 | Train PPL:   1.283\n",
      "\t Val. Loss: 2.959 |  Val. PPL:  19.285\n",
      "Epoch: 30 | Time: 0m 18s\n",
      "\tTrain Loss: 0.209 | Train PPL:   1.232\n",
      "\t Val. Loss: 2.964 |  Val. PPL:  19.374\n"
     ]
    },
    {
     "data": {
      "text/plain": [
       "570.225025177002"
      ]
     },
     "execution_count": 49,
     "metadata": {},
     "output_type": "execute_result"
    }
   ],
   "source": [
    "mul_model = create_model(input_dim,output_dim,SRC_PAD_IDX,TRG_PAD_IDX,'mul')\n",
    "count_parameters(mul_model)\n",
    "lr = 0.001\n",
    "#training hyperparameters\n",
    "optimizer = optim.Adam(mul_model.parameters(), lr=lr)\n",
    "criterion = nn.CrossEntropyLoss(ignore_index = TRG_PAD_IDX) #combine softmax with cross entropy\n",
    "\n",
    "mul_train_loss,mul_val_loss,mul_train_time = log_training('./app/model/mul.pt',num_epochs,mul_model)\n",
    "mul_train_time"
   ]
  },
  {
   "cell_type": "markdown",
   "metadata": {},
   "source": [
    "## Additive attention model"
   ]
  },
  {
   "cell_type": "code",
   "execution_count": 50,
   "metadata": {},
   "outputs": [
    {
     "name": "stdout",
     "output_type": "stream",
     "text": [
      "parameters : 4543451\n",
      "Epoch: 01 | Time: 0m 19s\n",
      "\tTrain Loss: 5.208 | Train PPL: 182.754\n",
      "\t Val. Loss: 4.568 |  Val. PPL:  96.321\n",
      "Epoch: 02 | Time: 0m 19s\n",
      "\tTrain Loss: 4.355 | Train PPL:  77.851\n",
      "\t Val. Loss: 3.950 |  Val. PPL:  51.916\n",
      "Epoch: 03 | Time: 0m 19s\n",
      "\tTrain Loss: 3.789 | Train PPL:  44.195\n",
      "\t Val. Loss: 3.384 |  Val. PPL:  29.475\n",
      "Epoch: 04 | Time: 0m 18s\n",
      "\tTrain Loss: 3.235 | Train PPL:  25.398\n",
      "\t Val. Loss: 3.045 |  Val. PPL:  21.007\n",
      "Epoch: 05 | Time: 0m 18s\n",
      "\tTrain Loss: 2.830 | Train PPL:  16.949\n",
      "\t Val. Loss: 2.921 |  Val. PPL:  18.568\n",
      "Epoch: 06 | Time: 0m 19s\n",
      "\tTrain Loss: 2.483 | Train PPL:  11.982\n",
      "\t Val. Loss: 2.801 |  Val. PPL:  16.464\n",
      "Epoch: 07 | Time: 0m 19s\n",
      "\tTrain Loss: 2.222 | Train PPL:   9.226\n",
      "\t Val. Loss: 2.658 |  Val. PPL:  14.268\n",
      "Epoch: 08 | Time: 0m 19s\n",
      "\tTrain Loss: 1.962 | Train PPL:   7.111\n",
      "\t Val. Loss: 2.601 |  Val. PPL:  13.478\n",
      "Epoch: 09 | Time: 0m 19s\n",
      "\tTrain Loss: 1.758 | Train PPL:   5.801\n",
      "\t Val. Loss: 2.541 |  Val. PPL:  12.696\n",
      "Epoch: 10 | Time: 0m 19s\n",
      "\tTrain Loss: 1.540 | Train PPL:   4.666\n",
      "\t Val. Loss: 2.490 |  Val. PPL:  12.057\n",
      "Epoch: 11 | Time: 0m 19s\n",
      "\tTrain Loss: 1.372 | Train PPL:   3.943\n",
      "\t Val. Loss: 2.544 |  Val. PPL:  12.729\n",
      "Epoch: 12 | Time: 0m 19s\n",
      "\tTrain Loss: 1.237 | Train PPL:   3.446\n",
      "\t Val. Loss: 2.545 |  Val. PPL:  12.738\n",
      "Epoch: 13 | Time: 0m 19s\n",
      "\tTrain Loss: 1.083 | Train PPL:   2.955\n",
      "\t Val. Loss: 2.523 |  Val. PPL:  12.470\n",
      "Epoch: 14 | Time: 0m 19s\n",
      "\tTrain Loss: 0.965 | Train PPL:   2.624\n",
      "\t Val. Loss: 2.540 |  Val. PPL:  12.683\n",
      "Epoch: 15 | Time: 0m 19s\n",
      "\tTrain Loss: 0.851 | Train PPL:   2.343\n",
      "\t Val. Loss: 2.523 |  Val. PPL:  12.469\n",
      "Epoch: 16 | Time: 0m 19s\n",
      "\tTrain Loss: 0.745 | Train PPL:   2.107\n",
      "\t Val. Loss: 2.555 |  Val. PPL:  12.865\n",
      "Epoch: 17 | Time: 0m 19s\n",
      "\tTrain Loss: 0.711 | Train PPL:   2.035\n",
      "\t Val. Loss: 2.689 |  Val. PPL:  14.715\n",
      "Epoch: 18 | Time: 0m 19s\n",
      "\tTrain Loss: 0.596 | Train PPL:   1.816\n",
      "\t Val. Loss: 2.607 |  Val. PPL:  13.560\n",
      "Epoch: 19 | Time: 0m 19s\n",
      "\tTrain Loss: 0.557 | Train PPL:   1.746\n",
      "\t Val. Loss: 2.637 |  Val. PPL:  13.964\n",
      "Epoch: 20 | Time: 0m 19s\n",
      "\tTrain Loss: 0.502 | Train PPL:   1.652\n",
      "\t Val. Loss: 2.659 |  Val. PPL:  14.281\n",
      "Epoch: 21 | Time: 0m 19s\n",
      "\tTrain Loss: 0.448 | Train PPL:   1.566\n",
      "\t Val. Loss: 2.731 |  Val. PPL:  15.353\n",
      "Epoch: 22 | Time: 0m 19s\n",
      "\tTrain Loss: 0.430 | Train PPL:   1.538\n",
      "\t Val. Loss: 2.720 |  Val. PPL:  15.174\n",
      "Epoch: 23 | Time: 0m 19s\n",
      "\tTrain Loss: 0.390 | Train PPL:   1.477\n",
      "\t Val. Loss: 2.818 |  Val. PPL:  16.741\n",
      "Epoch: 24 | Time: 0m 19s\n",
      "\tTrain Loss: 0.386 | Train PPL:   1.470\n",
      "\t Val. Loss: 2.754 |  Val. PPL:  15.703\n",
      "Epoch: 25 | Time: 0m 19s\n",
      "\tTrain Loss: 0.346 | Train PPL:   1.414\n",
      "\t Val. Loss: 2.917 |  Val. PPL:  18.490\n",
      "Epoch: 26 | Time: 0m 19s\n",
      "\tTrain Loss: 0.315 | Train PPL:   1.371\n",
      "\t Val. Loss: 2.829 |  Val. PPL:  16.932\n",
      "Epoch: 27 | Time: 0m 19s\n",
      "\tTrain Loss: 0.294 | Train PPL:   1.342\n",
      "\t Val. Loss: 2.901 |  Val. PPL:  18.183\n",
      "Epoch: 28 | Time: 0m 19s\n",
      "\tTrain Loss: 0.294 | Train PPL:   1.342\n",
      "\t Val. Loss: 2.905 |  Val. PPL:  18.258\n",
      "Epoch: 29 | Time: 0m 19s\n",
      "\tTrain Loss: 0.265 | Train PPL:   1.303\n",
      "\t Val. Loss: 3.082 |  Val. PPL:  21.810\n",
      "Epoch: 30 | Time: 0m 18s\n",
      "\tTrain Loss: 0.262 | Train PPL:   1.299\n",
      "\t Val. Loss: 3.074 |  Val. PPL:  21.629\n"
     ]
    },
    {
     "data": {
      "text/plain": [
       "574.020138502121"
      ]
     },
     "execution_count": 50,
     "metadata": {},
     "output_type": "execute_result"
    }
   ],
   "source": [
    "add_model = create_model(input_dim,output_dim,SRC_PAD_IDX,TRG_PAD_IDX,'add')\n",
    "count_parameters(add_model)\n",
    "lr = 0.001\n",
    "#training hyperparameters\n",
    "optimizer = optim.Adam(add_model.parameters(), lr=lr)\n",
    "criterion = nn.CrossEntropyLoss(ignore_index = TRG_PAD_IDX) #combine softmax with cross entropy\n",
    "\n",
    "add_train_loss,add_val_loss,add_train_time = log_training('./app/model/add.pt',num_epochs,add_model)\n",
    "add_train_time"
   ]
  },
  {
   "cell_type": "markdown",
   "metadata": {},
   "source": [
    "### Comparison among three attention mechanisms"
   ]
  },
  {
   "cell_type": "code",
   "execution_count": 51,
   "metadata": {},
   "outputs": [
    {
     "data": {
      "text/html": [
       "<div>\n",
       "<style scoped>\n",
       "    .dataframe tbody tr th:only-of-type {\n",
       "        vertical-align: middle;\n",
       "    }\n",
       "\n",
       "    .dataframe tbody tr th {\n",
       "        vertical-align: top;\n",
       "    }\n",
       "\n",
       "    .dataframe thead th {\n",
       "        text-align: right;\n",
       "    }\n",
       "</style>\n",
       "<table border=\"1\" class=\"dataframe\">\n",
       "  <thead>\n",
       "    <tr style=\"text-align: right;\">\n",
       "      <th></th>\n",
       "      <th>Attentions</th>\n",
       "      <th>Training Loss</th>\n",
       "      <th>Training PPL</th>\n",
       "      <th>Validation Loss</th>\n",
       "      <th>Validation PPL</th>\n",
       "      <th>Training Time(s)</th>\n",
       "    </tr>\n",
       "  </thead>\n",
       "  <tbody>\n",
       "    <tr>\n",
       "      <th>0</th>\n",
       "      <td>General Attention</td>\n",
       "      <td>1.118786</td>\n",
       "      <td>3.061137</td>\n",
       "      <td>2.553121</td>\n",
       "      <td>12.847142</td>\n",
       "      <td>568.960705</td>\n",
       "    </tr>\n",
       "    <tr>\n",
       "      <th>1</th>\n",
       "      <td>Multiplicative Attention</td>\n",
       "      <td>1.460821</td>\n",
       "      <td>4.309494</td>\n",
       "      <td>2.437865</td>\n",
       "      <td>11.448568</td>\n",
       "      <td>570.225025</td>\n",
       "    </tr>\n",
       "    <tr>\n",
       "      <th>2</th>\n",
       "      <td>Additive Attention</td>\n",
       "      <td>1.540244</td>\n",
       "      <td>4.665730</td>\n",
       "      <td>2.489675</td>\n",
       "      <td>12.057361</td>\n",
       "      <td>574.020139</td>\n",
       "    </tr>\n",
       "  </tbody>\n",
       "</table>\n",
       "</div>"
      ],
      "text/plain": [
       "                 Attentions  Training Loss  Training PPL  Validation Loss  \\\n",
       "0         General Attention       1.118786      3.061137         2.553121   \n",
       "1  Multiplicative Attention       1.460821      4.309494         2.437865   \n",
       "2        Additive Attention       1.540244      4.665730         2.489675   \n",
       "\n",
       "   Validation PPL  Training Time(s)  \n",
       "0       12.847142        568.960705  \n",
       "1       11.448568        570.225025  \n",
       "2       12.057361        574.020139  "
      ]
     },
     "execution_count": 51,
     "metadata": {},
     "output_type": "execute_result"
    }
   ],
   "source": [
    "import pandas as pd\n",
    "import numpy as np\n",
    "gen_idx = np.argsort(gen_val_loss)[0]\n",
    "mul_idx = np.argsort(mul_val_loss)[0]\n",
    "add_idx = np.argsort(add_val_loss)[0]\n",
    "\n",
    "\n",
    "pd.DataFrame({\"Attentions\" : [\"General Attention\",\"Multiplicative Attention\", \"Additive Attention\"],\n",
    "              \"Training Loss\" : [gen_train_loss[gen_idx], mul_train_loss[mul_idx], add_train_loss[add_idx]],\n",
    "              \"Training PPL\" : [math.exp(gen_train_loss[gen_idx]), math.exp(mul_train_loss[mul_idx]), math.exp(add_train_loss[add_idx])],\n",
    "              \"Validation Loss\" : [gen_val_loss[gen_idx], mul_val_loss[mul_idx], add_val_loss[add_idx]],\n",
    "              \"Validation PPL\" : [math.exp(gen_val_loss[gen_idx]), math.exp(mul_val_loss[mul_idx]), math.exp(add_val_loss[add_idx])],\n",
    "              \"Training Time(s)\" : [gen_train_time, mul_train_time, add_train_time]\n",
    "             })"
   ]
  },
  {
   "cell_type": "markdown",
   "metadata": {},
   "source": [
    "### Ploting the learning curves"
   ]
  },
  {
   "cell_type": "code",
   "execution_count": 52,
   "metadata": {},
   "outputs": [],
   "source": [
    "import matplotlib.pyplot as plt\n",
    "def plot_loss(train_losses,valid_losses):\n",
    "    fig = plt.figure(figsize=(5, 3))\n",
    "    ax = fig.add_subplot(1, 1, 1)\n",
    "    ax.plot(train_losses, label = 'train loss')\n",
    "    ax.plot(valid_losses, label = 'valid loss')\n",
    "    plt.legend()\n",
    "    ax.set_xlabel('updates')\n",
    "    ax.set_ylabel('loss')\n",
    "    "
   ]
  },
  {
   "cell_type": "markdown",
   "metadata": {},
   "source": [
    "General attention model"
   ]
  },
  {
   "cell_type": "code",
   "execution_count": 53,
   "metadata": {},
   "outputs": [
    {
     "data": {
      "image/png": "[encoded data removed]",
      "text/plain": [
       "<Figure size 500x300 with 1 Axes>"
      ]
     },
     "metadata": {},
     "output_type": "display_data"
    }
   ],
   "source": [
    "plot_loss(gen_train_loss,gen_val_loss)"
   ]
  },
  {
   "cell_type": "markdown",
   "metadata": {},
   "source": [
    "Multipicative attention model"
   ]
  },
  {
   "cell_type": "code",
   "execution_count": 54,
   "metadata": {},
   "outputs": [
    {
     "data": {
      "image/png": "[encoded data removed]",
      "text/plain": [
       "<Figure size 500x300 with 1 Axes>"
      ]
     },
     "metadata": {},
     "output_type": "display_data"
    }
   ],
   "source": [
    "plot_loss(mul_train_loss,mul_val_loss)"
   ]
  },
  {
   "cell_type": "markdown",
   "metadata": {},
   "source": [
    "Additive attention model"
   ]
  },
  {
   "cell_type": "code",
   "execution_count": 55,
   "metadata": {},
   "outputs": [
    {
     "data": {
      "image/png": "[encoded data removed]",
      "text/plain": [
       "<Figure size 500x300 with 1 Axes>"
      ]
     },
     "metadata": {},
     "output_type": "display_data"
    }
   ],
   "source": [
    "plot_loss(add_train_loss,add_val_loss)"
   ]
  },
  {
   "cell_type": "markdown",
   "metadata": {},
   "source": [
    "## 7. Testing and inference"
   ]
  },
  {
   "cell_type": "markdown",
   "metadata": {},
   "source": [
    "### Testing on test set"
   ]
  },
  {
   "cell_type": "code",
   "execution_count": 57,
   "metadata": {},
   "outputs": [
    {
     "name": "stdout",
     "output_type": "stream",
     "text": [
      "| Test Loss: 2.787 | Test PPL:  16.238 |\n"
     ]
    }
   ],
   "source": [
    "model = create_model(input_dim,output_dim,SRC_PAD_IDX,TRG_PAD_IDX,'gen')\n",
    "model.load_state_dict(torch.load('./app/model/gen.pt'))\n",
    "test_loss = evaluate(model, test_loader, criterion, test_loader_length)\n",
    "\n",
    "print(f'| Test Loss: {test_loss:.3f} | Test PPL: {math.exp(test_loss):7.3f} |')"
   ]
  },
  {
   "cell_type": "markdown",
   "metadata": {},
   "source": [
    "### Inference"
   ]
  },
  {
   "cell_type": "code",
   "execution_count": 119,
   "metadata": {},
   "outputs": [
    {
     "data": {
      "text/plain": [
       "('The sea over there is very pretty', 'အဲဒီကပင်လယ်က အရမ်း လှတယ်။')"
      ]
     },
     "execution_count": 119,
     "metadata": {},
     "output_type": "execute_result"
    }
   ],
   "source": [
    "sample"
   ]
  },
  {
   "cell_type": "code",
   "execution_count": 59,
   "metadata": {},
   "outputs": [
    {
     "data": {
      "text/plain": [
       "'The sea over there is very pretty'"
      ]
     },
     "execution_count": 59,
     "metadata": {},
     "output_type": "execute_result"
    }
   ],
   "source": [
    "sample[0]"
   ]
  },
  {
   "cell_type": "code",
   "execution_count": 60,
   "metadata": {},
   "outputs": [
    {
     "data": {
      "text/plain": [
       "'အဲဒီကပင်လယ်က အရမ်း လှတယ်။'"
      ]
     },
     "execution_count": 60,
     "metadata": {},
     "output_type": "execute_result"
    }
   ],
   "source": [
    "sample[1]"
   ]
  },
  {
   "cell_type": "markdown",
   "metadata": {},
   "source": [
    "Since batch size is 1, we just take off that dimension"
   ]
  },
  {
   "cell_type": "markdown",
   "metadata": {},
   "source": [
    "We shall remove the first token since it's zeroes anyway"
   ]
  },
  {
   "cell_type": "markdown",
   "metadata": {},
   "source": [
    "Then we just take the top token with highest probabilities"
   ]
  },
  {
   "cell_type": "markdown",
   "metadata": {},
   "source": [
    "Get the mapping of the target language"
   ]
  },
  {
   "cell_type": "code",
   "execution_count": 120,
   "metadata": {},
   "outputs": [],
   "source": [
    "def infer(src, text_transform,vocab_transform,model,max_len=100):\n",
    "    src_text = text_transform[SRC_LANGUAGE](src).to(device).unsqueeze(0) \n",
    "    # trg_text = text_transform[TRG_LANGUAGE](src).to(device)\n",
    "\n",
    "    text_length = torch.tensor([src_text.size(0)]).to(dtype=torch.int64)\n",
    "\n",
    "    model.eval()\n",
    "\n",
    "    trg_idx = [SOS_IDX]\n",
    "\n",
    "\n",
    "    for i in range(max_len):\n",
    "        with torch.no_grad():\n",
    "            output, attentions = model(src_text, torch.LongTensor(trg_idx).unsqueeze(0).to(device)) #turn off teacher forcing\n",
    "\n",
    "        pred_token = output.argmax(2)[:, -1].item()\n",
    "        trg_idx.append(pred_token)\n",
    "        \n",
    "        if pred_token == EOS_IDX:\n",
    "            break\n",
    "    \n",
    "    # print(trg_indexes)\n",
    "    trg_tokens = [vocab_transform[TRG_LANGUAGE].get_itos()[i] for i in trg_idx]\n",
    "    return trg_tokens[1:], attentions  # E"
   ]
  },
  {
   "cell_type": "code",
   "execution_count": 121,
   "metadata": {},
   "outputs": [
    {
     "data": {
      "text/plain": [
       "['ဟို', 'က', 'အရမ်း', 'လှ', 'တယ်', '။', '<eos>']"
      ]
     },
     "execution_count": 121,
     "metadata": {},
     "output_type": "execute_result"
    }
   ],
   "source": [
    "out,att = infer(sample[0], text_transform,vocab_transform,gen_model,100)\n",
    "out"
   ]
  },
  {
   "cell_type": "markdown",
   "metadata": {},
   "source": [
    "## 8. Attention Map and BELU score\n",
    "\n",
    "Let's display the attentions to understand how the source text links with the generated text"
   ]
  },
  {
   "cell_type": "markdown",
   "metadata": {},
   "source": [
    "Since there are 8 heads, we can look at just 1 head for sake of simplicity."
   ]
  },
  {
   "cell_type": "code",
   "execution_count": 123,
   "metadata": {},
   "outputs": [],
   "source": [
    "def prepare_att_map(src,trg,model,token_transform,vocab_transform):\n",
    "    src_text = text_transform[SRC_LANGUAGE](src).to(device).reshape(1, -1)\n",
    "    trg_text = text_transform[TRG_LANGUAGE](trg).to(device).reshape(1, -1)\n",
    "    model.eval()\n",
    "    with torch.no_grad():\n",
    "        output, attentions = model(src_text, trg_text)\n",
    "    output = output.squeeze(0)\n",
    "    output = output[1:]\n",
    "    attention = attentions[0, 0, :, :]\n",
    "\n",
    "    output_max = output.argmax(1) #returns max indices\n",
    "    src_tokens = ['<sos>'] + token_transform[SRC_LANGUAGE](src) + ['<eos>']\n",
    "    trg_tokens = ['<sos>'] + [vocab_transform[TRG_LANGUAGE].get_itos()[token.item()] for token in output_max]\n",
    "\n",
    "    return src_tokens,trg_tokens,attention"
   ]
  },
  {
   "cell_type": "code",
   "execution_count": 169,
   "metadata": {},
   "outputs": [
    {
     "name": "stdout",
     "output_type": "stream",
     "text": [
      "Myanmar-compatible fonts: ['Noto Sans Mono', 'Noto Sans Mono', 'Noto Mono']\n"
     ]
    }
   ],
   "source": [
    "import matplotlib.font_manager as fm\n",
    "\n",
    "# List all system fonts\n",
    "available_fonts = [f.name for f in fm.fontManager.ttflist]\n",
    "# print(available_fonts)\n",
    "\n",
    "# Check if Myanmar-compatible fonts are available\n",
    "myanmar_fonts = [f for f in available_fonts if \"Myanmar\" in f or \"Noto\" in f]\n",
    "print(\"Myanmar-compatible fonts:\", myanmar_fonts)\n"
   ]
  },
  {
   "cell_type": "code",
   "execution_count": 174,
   "metadata": {},
   "outputs": [],
   "source": [
    "import matplotlib.ticker as ticker\n",
    "# plt.rcParams['font.family'] = 'Noto Mono'\n",
    "\n",
    "def display_attention(sentence, translation, attention):\n",
    "    \n",
    "    fig = plt.figure(figsize=(10,10))\n",
    "    ax = fig.add_subplot(111)\n",
    "    \n",
    "    attention = attention.squeeze(1).cpu().detach().numpy()\n",
    "    \n",
    "    cax = ax.matshow(attention, cmap='bone')\n",
    "   \n",
    "    ax.tick_params(labelsize=10)\n",
    "    \n",
    "    y_ticks =  [''] + translation\n",
    "    x_ticks =  [''] + sentence \n",
    "    # print(y_ticks)\n",
    "    ax.set_xticklabels(x_ticks, rotation=45)\n",
    "    ax.set_yticklabels(y_ticks,name='Noto Sans Mono')\n",
    "\n",
    "    ax.xaxis.set_major_locator(ticker.MultipleLocator(1))\n",
    "    ax.yaxis.set_major_locator(ticker.MultipleLocator(1))\n",
    "    \n",
    "    plt.show()\n",
    "    plt.close()"
   ]
  },
  {
   "cell_type": "code",
   "execution_count": 175,
   "metadata": {},
   "outputs": [
    {
     "name": "stdout",
     "output_type": "stream",
     "text": [
      "BELU_score : 1.2183324802375697e-231\n"
     ]
    },
    {
     "data": {
      "image/png": "[encoded data removed]",
      "text/plain": [
       "<Figure size 1000x1000 with 1 Axes>"
      ]
     },
     "metadata": {},
     "output_type": "display_data"
    }
   ],
   "source": [
    "gen_model = create_model(input_dim,output_dim,SRC_PAD_IDX,TRG_PAD_IDX,'gen')\n",
    "gen_model.load_state_dict(torch.load('./app/model/gen.pt',map_location=torch.device('cpu')))\n",
    "src_tokens,trg_tokens,attention  = prepare_att_map(sample[0],sample[1],gen_model,token_transform,vocab_transform)\n",
    "print(f\"BELU_score : {sentence_bleu([src_tokens], trg_tokens)}\")\n",
    "display_attention(src_tokens, trg_tokens, attention)"
   ]
  },
  {
   "cell_type": "code",
   "execution_count": 161,
   "metadata": {},
   "outputs": [
    {
     "name": "stdout",
     "output_type": "stream",
     "text": [
      "BELU_score : 1.2183324802375697e-231\n"
     ]
    },
    {
     "data": {
      "image/png": "[encoded data removed]",
      "text/plain": [
       "<Figure size 1000x1000 with 1 Axes>"
      ]
     },
     "metadata": {},
     "output_type": "display_data"
    }
   ],
   "source": [
    "mul_model = create_model(input_dim,output_dim,SRC_PAD_IDX,TRG_PAD_IDX,'mul')\n",
    "mul_model.load_state_dict(torch.load('./app/model/mul.pt',map_location=torch.device('cpu')))\n",
    "src_tokens,trg_tokens,attention  = prepare_att_map(sample[0],sample[1],mul_model,token_transform,vocab_transform)\n",
    "print(f\"BELU_score : {sentence_bleu([src_tokens], trg_tokens)}\")\n",
    "display_attention(src_tokens, trg_tokens, attention)"
   ]
  },
  {
   "cell_type": "code",
   "execution_count": 162,
   "metadata": {},
   "outputs": [
    {
     "name": "stdout",
     "output_type": "stream",
     "text": [
      "BELU_score : 1.2183324802375697e-231\n"
     ]
    },
    {
     "data": {
      "image/png": "[encoded data removed]",
      "text/plain": [
       "<Figure size 1000x1000 with 1 Axes>"
      ]
     },
     "metadata": {},
     "output_type": "display_data"
    }
   ],
   "source": [
    "add_model = create_model(input_dim,output_dim,SRC_PAD_IDX,TRG_PAD_IDX,'add')\n",
    "add_model.load_state_dict(torch.load('./app/model/add.pt',map_location=torch.device('cpu')))\n",
    "\n",
    "src_tokens,trg_tokens,attention  = prepare_att_map(sample[0],sample[1],add_model,token_transform,vocab_transform)\n",
    "print(f\"BELU_score : {sentence_bleu([src_tokens], trg_tokens)}\")\n",
    "display_attention(src_tokens, trg_tokens, attention)"
   ]
  },
  {
   "cell_type": "markdown",
   "metadata": {},
   "source": [
    "## 9. Analysis\n"
   ]
  },
  {
   "cell_type": "markdown",
   "metadata": {},
   "source": [
    "In terms of training time, general attention got the best performance while multiplicative attention is slightly better in validation loss. However, the margins are relatively small. So, genreally, the attention mechanisms do not make a significant impact on perforamce and computaional complexity. This might be differnt for a larger corupus."
   ]
  }
 ],
 "metadata": {
  "kernelspec": {
   "display_name": "Python 3 (ipykernel)",
   "language": "python",
   "name": "python3"
  },
  "language_info": {
   "codemirror_mode": {
    "name": "ipython",
    "version": 3
   },
   "file_extension": ".py",
   "mimetype": "text/x-python",
   "name": "python",
   "nbconvert_exporter": "python",
   "pygments_lexer": "ipython3",
   "version": "3.12.6"
  },
  "vscode": {
   "interpreter": {
    "hash": "714d3f4db9a58ba7d2f2a9a4fffe577af3df8551aebd380095064812e2e0a6a4"
   }
  }
 },
 "nbformat": 4,
 "nbformat_minor": 4
}
